{
 "cells": [
  {
   "cell_type": "code",
   "execution_count": 18,
   "metadata": {
    "id": "TX6oeUEYjFZC"
   },
   "outputs": [],
   "source": [
    "import cv2\n",
    "import numpy as np\n",
    "import tensorflow as tf\n",
    "from skimage.color import rgb2gray\n",
    "\n",
    "fashion_mnist = tf.keras.datasets.fashion_mnist\n",
    "from sklearn.metrics import (accuracy_score, classification_report)\n",
    "\n",
    "\n",
    "def distance(a,b):\n",
    "    # euclidean distance between two points\n",
    "    return np.linalg.norm(a-b)\n",
    "\n",
    "def extract_sift_features(image):\n",
    "    sift = cv2.xfeatures2d.SIFT_create()\n",
    "    kp, des = sift.detectAndCompute(image, None)\n",
    "    return kp, des\n",
    "\n",
    "def extract_features(x_train,y_train):\n",
    "    descriptor_list = []\n",
    "    all_descriptor_list = []\n",
    "    x_test_new=[]\n",
    "    y_test_new=[]\n",
    "    for i in range(len(x_train)):\n",
    "        image = x_train[i]\n",
    "        image=rgb2gray(x_train[i])\n",
    "        kp, des = extract_sift_features(image)\n",
    "        if des is None:\n",
    "          continue\n",
    "        x_test_new.append(x_train[i])\n",
    "        y_test_new.append(y_train[i])\n",
    "        for d in range(len(kp)):\n",
    "            descriptor_list.append(des[d])\n",
    "        all_descriptor_list.append(des)\n",
    "    # convert to numpy array\n",
    "    descriptor_list = np.array(descriptor_list)\n",
    "    all_descriptor_list = np.array(all_descriptor_list)\n",
    "    x_test_new=np.array(x_test_new)\n",
    "    y_test_new=np.array(y_test_new)\n",
    "    return descriptor_list,all_descriptor_list,x_test_new,y_test_new\n",
    "\n",
    "def find_nearest_centroid(feature,centroids):\n",
    "    distances = np.array([distance(i,feature) for i in centroids])\n",
    "    return np.argmin(distances)\n",
    "\n",
    "def generate_histogram(des,centroids):\n",
    "    histogram = np.zeros(len(centroids))\n",
    "    for feature in des:\n",
    "        nearest_centroid = find_nearest_centroid(feature,centroids)\n",
    "        histogram[nearest_centroid] += 1\n",
    "    return np.array(histogram)\n",
    "\n",
    "def ComputeHistogram(centroids,all_descriptor_list,number_of_images):\n",
    "    bag_of_visual_words = []\n",
    "    for i in range(number_of_images):\n",
    "        des = all_descriptor_list[i]\n",
    "        if des is None:\n",
    "            continue\n",
    "        histogram = generate_histogram(des,centroids)\n",
    "        bag_of_visual_words.append(histogram)\n",
    "\n",
    "    return np.array(bag_of_visual_words)\n",
    "\n",
    "def my_k_mean(k,data,iter=50):\n",
    "    centroids = data[:k]\n",
    "    for _ in range(iter):\n",
    "        # create a list of k empty lists\n",
    "        clusters = [[] for _ in range(k)]\n",
    "\n",
    "        for i in range(len(data)):\n",
    "            nearest_centroid = find_nearest_centroid(data[i],centroids)\n",
    "            clusters[nearest_centroid].append(data[i])\n",
    "\n",
    "        # calculate new centroids\n",
    "        new_centroids = np.array([np.mean(i,axis=0) for i in clusters])\n",
    "            \n",
    "        \n",
    "        # check if the centroids are the same\n",
    "        if np.array_equal(centroids,new_centroids):\n",
    "            break\n",
    "        centroids = new_centroids\n",
    "    return centroids,clusters\n",
    "\n",
    "def MatchHistogram(histogram1, all_his):\n",
    "    # return cosine similarity of two histograms\n",
    "    return np.dot(histogram1,all_his)/(np.linalg.norm(histogram1,axis=1)*np.linalg.norm(all_his))\n",
    "\n",
    "def predict(test_images,train_images,train_labels):\n",
    "    # find the nearest image in the training set\n",
    "    predicted_images = []\n",
    "    for test_image in test_images:\n",
    "        \n",
    "        cosine_similarity = MatchHistogram(train_images,test_image)\n",
    "        nearest_image = np.array(np.argpartition(cosine_similarity,-100)[-100:]).astype(int)\n",
    "        temp=train_labels[nearest_image].astype(int)\n",
    "        \n",
    "        nearest_image=np.argmax(np.bincount(temp))\n",
    "        predicted_images.append(nearest_image)\n",
    "    return np.array(predicted_images)\n",
    "\n",
    "def CreateVisualDictionary(descriptors, k):\n",
    "    centroids,clusters = my_k_mean(k=k,data=descriptors)\n",
    "    return centroids\n"
   ]
  },
  {
   "cell_type": "code",
   "execution_count": null,
   "metadata": {
    "id": "331DB1LQkeQS"
   },
   "outputs": [],
   "source": [
    "(x_train, y_train), (x_test, y_test) = fashion_mnist.load_data()"
   ]
  },
  {
   "cell_type": "code",
   "execution_count": null,
   "metadata": {
    "id": "a6zwFlt4mzPj"
   },
   "outputs": [],
   "source": [
    "# extract features from training images\n",
    "print(\"Extracting features from training images\")\n",
    "descriptor_list , all_descriptor_list , x_train , y_train = extract_features(x_train,y_train)\n",
    "number_of_images = len(x_train)"
   ]
  },
  {
   "cell_type": "code",
   "execution_count": 28,
   "metadata": {
    "colab": {
     "base_uri": "https://localhost:8080/"
    },
    "id": "0O9uFHYZuXyL",
    "outputId": "4a2e3842-b469-4e9b-ab9e-c5dc1d8f91c1"
   },
   "outputs": [
    {
     "name": "stdout",
     "output_type": "stream",
     "text": [
      "Creating visual dictionary\n"
     ]
    }
   ],
   "source": [
    "# create visual dictionary\n",
    "print(\"Creating visual dictionary\")\n",
    "centroids = CreateVisualDictionary(descriptor_list,k=50)"
   ]
  },
  {
   "cell_type": "code",
   "execution_count": 30,
   "metadata": {
    "colab": {
     "base_uri": "https://localhost:8080/"
    },
    "id": "Itc9P_p5uZh4",
    "outputId": "ecdd6fb4-c039-43e8-aa7b-a85b5beb9610"
   },
   "outputs": [
    {
     "name": "stdout",
     "output_type": "stream",
     "text": [
      "Computing histogram for training images\n"
     ]
    }
   ],
   "source": [
    "# compute histogram for training images\n",
    "print(\"Computing histogram for training images\")\n",
    "bag_of_visual_words = ComputeHistogram(centroids=centroids,all_descriptor_list=all_descriptor_list,number_of_images=number_of_images)\n"
   ]
  },
  {
   "cell_type": "code",
   "execution_count": 31,
   "metadata": {
    "colab": {
     "base_uri": "https://localhost:8080/"
    },
    "id": "DTlV3d9rugHi",
    "outputId": "879e8e1d-0794-4d7b-efa9-88e8074e75a0"
   },
   "outputs": [
    {
     "name": "stdout",
     "output_type": "stream",
     "text": [
      "Extracting features from test images\n"
     ]
    }
   ],
   "source": [
    "# generate test images\n",
    "print(\"Extracting features from test images\")\n",
    "test_images = []\n",
    "for i in range(len(x_test)//1):\n",
    "    test_images.append((x_test[i]))"
   ]
  },
  {
   "cell_type": "code",
   "execution_count": null,
   "metadata": {
    "id": "szHRPF0TuicB"
   },
   "outputs": [],
   "source": [
    "# extract features from test images \n",
    "test_descriptor_list , test_all_descriptor_list , test_images , y_labels = extract_features(test_images,y_test)\n"
   ]
  },
  {
   "cell_type": "code",
   "execution_count": 33,
   "metadata": {
    "colab": {
     "base_uri": "https://localhost:8080/"
    },
    "id": "BIinfpusukzB",
    "outputId": "1baf5638-9a90-491b-c67f-19a58eafcec2"
   },
   "outputs": [
    {
     "name": "stdout",
     "output_type": "stream",
     "text": [
      "Computing histogram for test images\n"
     ]
    }
   ],
   "source": [
    "# compute histogram for test images\n",
    "print(\"Computing histogram for test images\")\n",
    "test_histograms = ComputeHistogram(centroids=centroids,all_descriptor_list=test_all_descriptor_list,number_of_images=len(test_images))\n"
   ]
  },
  {
   "cell_type": "code",
   "execution_count": 34,
   "metadata": {
    "colab": {
     "base_uri": "https://localhost:8080/"
    },
    "id": "KyLN5oOqunAZ",
    "outputId": "acb77653-e35b-4913-8438-7abb992df333"
   },
   "outputs": [
    {
     "name": "stdout",
     "output_type": "stream",
     "text": [
      "Matching histograms\n"
     ]
    }
   ],
   "source": [
    "# match histograms\n",
    "print(\"Matching histograms\")\n",
    "predicted_images = predict(test_histograms,bag_of_visual_words,y_train)\n"
   ]
  },
  {
   "cell_type": "code",
   "execution_count": 35,
   "metadata": {
    "colab": {
     "base_uri": "https://localhost:8080/"
    },
    "id": "zyJmIORiuolC",
    "outputId": "40ad645c-e5ee-4c94-c589-434b7f75565e"
   },
   "outputs": [
    {
     "name": "stdout",
     "output_type": "stream",
     "text": [
      "Accuracy:  48.83544578052215\n",
      "Correct: 4508 out of 9231\n"
     ]
    }
   ],
   "source": [
    "# compute accuracy\n",
    "correct = 0\n",
    "for i in range(len(predicted_images)):\n",
    "    if predicted_images[i] == y_labels[i]:\n",
    "        correct += 1\n",
    "print(\"Accuracy: \",correct/len(predicted_images)*100)\n",
    "print(f\"Correct: {correct} out of {len(predicted_images)}\")\n"
   ]
  },
  {
   "cell_type": "code",
   "execution_count": 36,
   "metadata": {
    "colab": {
     "base_uri": "https://localhost:8080/"
    },
    "id": "1ah5JvGwuqoD",
    "outputId": "06e7788f-c1b1-437a-9252-8bed2770a294"
   },
   "outputs": [
    {
     "name": "stdout",
     "output_type": "stream",
     "text": [
      "              precision    recall  f1-score   support\n",
      "\n",
      " T-shirt/top       0.60      0.54      0.57       944\n",
      "     Trouser       0.46      0.64      0.53       628\n",
      "    Pullover       0.33      0.46      0.38       954\n",
      "       Dress       0.37      0.39      0.38       923\n",
      "        Coat       0.37      0.33      0.35       973\n",
      "      Sandal       0.52      0.62      0.56       966\n",
      "       Shirt       0.29      0.07      0.11       932\n",
      "     Sneaker       0.60      0.56      0.58       965\n",
      "         Bag       0.50      0.56      0.53       958\n",
      "  Ankle boot       0.75      0.75      0.75       988\n",
      "\n",
      "    accuracy                           0.49      9231\n",
      "   macro avg       0.48      0.49      0.47      9231\n",
      "weighted avg       0.48      0.49      0.47      9231\n",
      "\n",
      "Overall Accuracy:  0.4883544578052215\n"
     ]
    }
   ],
   "source": [
    "# print classification report\n",
    "target_names = [\"T-shirt/top\", \"Trouser\", \"Pullover\", \"Dress\",\"Coat\", \"Sandal\", \"Shirt\", \"Sneaker\", \"Bag\", \"Ankle boot\"]\n",
    "print(classification_report(y_labels,predicted_images,target_names=target_names))\n",
    "print(\"Overall Accuracy: \",accuracy_score(y_labels,predicted_images))\n"
   ]
  },
  {
   "cell_type": "code",
   "execution_count": 36,
   "metadata": {
    "id": "EOk3lcU7usLx"
   },
   "outputs": [],
   "source": []
  }
 ],
 "metadata": {
  "colab": {
   "provenance": []
  },
  "kernelspec": {
   "display_name": "Python 3",
   "language": "python",
   "name": "python3"
  },
  "language_info": {
   "codemirror_mode": {
    "name": "ipython",
    "version": 3
   },
   "file_extension": ".py",
   "mimetype": "text/x-python",
   "name": "python",
   "nbconvert_exporter": "python",
   "pygments_lexer": "ipython3",
   "version": "3.8.5"
  }
 },
 "nbformat": 4,
 "nbformat_minor": 1
}
